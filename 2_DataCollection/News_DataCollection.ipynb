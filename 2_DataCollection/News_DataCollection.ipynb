{
 "cells": [
  {
   "cell_type": "code",
   "execution_count": 8,
   "metadata": {},
   "outputs": [],
   "source": [
    "#Importing packages\n",
    "import csv\n",
    "import nytimesarticle\n",
    "from nytimesarticle import articleAPI\n",
    "\n",
    "#API Key\n",
    "api = articleAPI('1168a9018e304409bf078624bc366ff2')\n",
    "\n",
    "# This function takes in a response to the NYT api and parses the articles into a list\n",
    "def parse(articles):\n",
    "    news = []\n",
    "    if 'response' in articles :\n",
    "        for i in articles[\"response\"][\"docs\"]:\n",
    "            dat = {}\n",
    "            dat['headline'] = i['headline']['main'].encode(\"utf8\")\n",
    "            dat['source'] = i['source']\n",
    "            dat['type'] = i['type_of_material']\n",
    "            dat['url'] = i['web_url']\n",
    "            dat['word_count'] = i['word_count']\n",
    "            news.append(dat)\n",
    "    return(news) \n",
    "\n",
    "\n",
    "#retrieve article urls and store it in a csv file\n",
    "all_articles = []\n",
    "for i in range(0,100):\n",
    "    articles = api.search(q = \"basketball\", begin_date = 20180401, end_date = 20180511, page = i)\n",
    "    articles = parse(articles)\n",
    "    all_articles = all_articles + articles\n",
    "keys = all_articles[0].keys()\n",
    "outputfile = open('Testing_Sports.csv', 'w',newline='') \n",
    "dict_writer = csv.DictWriter(outputfile,keys)\n",
    "dict_writer.writerows(all_articles)\n",
    "outputfile.close()"
   ]
  },
  {
   "cell_type": "code",
   "execution_count": null,
   "metadata": {
    "scrolled": true
   },
   "outputs": [],
   "source": [
    "#Importing packages\n",
    "import csv\n",
    "import urllib.request\n",
    "from bs4 import BeautifulSoup\n",
    "from bs4.element import Comment\n",
    "\n",
    "\n",
    "#Parsing HTML documents using BeautifulSoup\n",
    "def extractbody(body):\n",
    "    soup = BeautifulSoup(body, 'html.parser')\n",
    "    texts = soup.findAll(text=True)\n",
    "    visible_texts = filter(parse, texts)  \n",
    "    return u\" \".join(t.strip() for t in visible_texts)\n",
    "\n",
    "#Parsing through different tags\n",
    "def parse(element):\n",
    "    if element.parent.name in ['style', 'script', 'head', 'title', 'meta', '[document]']:\n",
    "        return False\n",
    "    if isinstance(element, Comment):\n",
    "        return False\n",
    "    return True\n",
    "\n",
    "\n",
    "#Storing the text from news articles into different files\n",
    "iterator=1\n",
    "csvDataFile = open('Testing_Politics.csv', 'r') \n",
    "csvReader = csv.reader(csvDataFile)\n",
    "for row in csvReader:\n",
    "    html = urllib.request.urlopen(row[3]).read()\n",
    "    outputfile = open(\"Testing_Politics_%s.txt\" %iterator,\"w\",encoding=\"utf-8\")\n",
    "    outputfile.write(extractbody(html))\n",
    "    outputfile.close()\n",
    "    iterator = iterator+1\n"
   ]
  },
  {
   "cell_type": "code",
   "execution_count": null,
   "metadata": {},
   "outputs": [],
   "source": []
  }
 ],
 "metadata": {
  "kernelspec": {
   "display_name": "Python 3",
   "language": "python",
   "name": "python3"
  },
  "language_info": {
   "codemirror_mode": {
    "name": "ipython",
    "version": 3
   },
   "file_extension": ".py",
   "mimetype": "text/x-python",
   "name": "python",
   "nbconvert_exporter": "python",
   "pygments_lexer": "ipython3",
   "version": "3.6.4"
  }
 },
 "nbformat": 4,
 "nbformat_minor": 2
}
